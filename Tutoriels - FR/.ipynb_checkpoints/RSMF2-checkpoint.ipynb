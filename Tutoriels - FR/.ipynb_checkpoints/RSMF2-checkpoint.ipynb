{
 "cells": [
  {
   "cell_type": "code",
   "execution_count": 1,
   "metadata": {},
   "outputs": [],
   "source": [
    "import numpy as np\n",
    "import pandas as pd\n",
    "import matplotlib.pyplot as plt\n",
    "import sys"
   ]
  },
  {
   "cell_type": "markdown",
   "metadata": {},
   "source": [
    "Fonctions utilitaires random en attendant de voir que ça existe dans numpy..."
   ]
  },
  {
   "cell_type": "code",
   "execution_count": 2,
   "metadata": {},
   "outputs": [],
   "source": [
    "def top(vector, maximum, k):        \n",
    "    c = maximum * np.argsort(scores)[-k:] + (1 - maximum) * np.argsort(scores)[:k]\n",
    "    d = []\n",
    "    for i in np.arange(len(c)):\n",
    "        d.append(vector[c[i]])\n",
    "    return d\n",
    "\n",
    "def rearrange(items, ratings):\n",
    "    attribute, scores = [], []\n",
    "    ranking = np.argsort(ratings)\n",
    "\n",
    "    for k in np.arange(len(ranking)):\n",
    "        attribute.append(items[ranking[k]])\n",
    "        scores.append(ratings[ranking[k]])\n",
    "\n",
    "    return attribute, scores\n",
    "\n",
    "def convert(data, nb_users, nb_movies):\n",
    "    new_data = []\n",
    "    for id_users in range(1, nb_users + 1):\n",
    "        id_movies = data[:,1][data[:,0] == id_users]\n",
    "        id_ratings = data[:,2][data[:,0] == id_users]\n",
    "        ratings = np.zeros(nb_movies)\n",
    "        ratings[id_movies - 1] = id_ratings\n",
    "        new_data.append(list(ratings))\n",
    "    return new_data\n",
    "\n",
    "def inner_concatenation(a, b):\n",
    "    c = []\n",
    "    for k in np.arange(len(a)):\n",
    "        c.append(a[k]+b[k])\n",
    "    return c\n",
    "\n",
    "def transform(user_sex, user_age, user_occupation):\n",
    "\n",
    "    argument = users_occupation_name.tolist().index(user_occupation)\n",
    "    empty = np.zeros(len(users_occupation_name)) \n",
    "    empty[argument] = 1\n",
    "\n",
    "    if user_sex == 'Male':\n",
    "        user_sex = 0\n",
    "    else:\n",
    "        user_sex = 1\n",
    "    \n",
    "    return np.concatenate(([user_sex], [user_age], empty.T)).T.tolist()"
   ]
  },
  {
   "cell_type": "markdown",
   "metadata": {},
   "source": [
    "## MoviesLens - Exploration des données\n",
    "\n",
    "Les données que nous allons manipuler afin d'explorer différents types de systèmes de recommendation sont celles associées au projet MovieLens (https://grouplens.org/datasets/movielens/). Brièvement, les données utilisées consistent ici en plus ou moins 100 000 évaluations de films par 943 utilisateurs et où un ensemble de 1 682 films étaient disponibles en visionnement. En plus des 100 000 évaluations à notre disposition, nous avons les informations complémentaires liées à chacun des usagers de même qu'à chacun des films.\n",
    "\n",
    "Enfin, la base de données est téléchargeable ici: https://grouplens.org/datasets/movielens/100k/ ."
   ]
  },
  {
   "cell_type": "markdown",
   "metadata": {},
   "source": [
    "### Importation et traitement des données associées aux usagers\n",
    "\n",
    "Avant de présenter les statistiques descriptives liées à la population étudiée, nous allons dans un premier temps traiter les données associées aux usagers afin de pouvoir plus aisément les manipuler. Notons que l'occupation de chacun des utilisateurs étant une chaîne de caractères, nous avons recodé les 21 occupations possibles en booléen."
   ]
  },
  {
   "cell_type": "code",
   "execution_count": 3,
   "metadata": {},
   "outputs": [],
   "source": [
    "users = pd.read_csv('../data/ml-100k/u.user', sep='|', header=None, engine='python', encoding='latin-1')\n",
    "\n",
    "# age\n",
    "user_age = np.matrix(users.loc[:, 1])\n",
    "\n",
    "# sexe\n",
    "user_sex = np.where(np.matrix(users.loc[:, 2]) == 'M', 0, 1)\n",
    "\n",
    "# occupation\n",
    "user_occupation_name = np.array(pd.read_csv('../data/ml-100k/u.occupation', sep='|', header=None, engine='python', encoding='latin-1').loc[:, 0])\n",
    "user_occupation = np.array(users.loc[:, 3])\n",
    "\n",
    "# recodage en booleen\n",
    "occupation_matrix = np.zeros((len(users), len(user_occupation_name)))\n",
    "for i in np.arange(len(users)): \n",
    "    i_occupation = user_occupation[i]\n",
    "        \n",
    "    for j in np.arange(len(user_occupation_name)):\n",
    "        if i_occupation == user_occupation_name[j]:\n",
    "            occupation_matrix[i, j] = 1\n",
    "            break            \n",
    "user_occupation = occupation_matrix\n",
    "\n",
    "# concatenation des differentes donnees sociodemographiques sous forme de liste\n",
    "user_attributes = np.concatenate((user_age, user_sex, user_occupation.T)).T.tolist()"
   ]
  },
  {
   "cell_type": "markdown",
   "metadata": {},
   "source": [
    "Nous explorons par la suite les différentes statistiques descriptives associées aux usagers. Celles-ci comportent des informations en lien avec l'âge, le sexe et l'occupation de chacun des usagers."
   ]
  },
  {
   "cell_type": "code",
   "execution_count": 4,
   "metadata": {},
   "outputs": [
    {
     "data": {
      "text/html": [
       "<div>\n",
       "<style scoped>\n",
       "    .dataframe tbody tr th:only-of-type {\n",
       "        vertical-align: middle;\n",
       "    }\n",
       "\n",
       "    .dataframe tbody tr th {\n",
       "        vertical-align: top;\n",
       "    }\n",
       "\n",
       "    .dataframe thead th {\n",
       "        text-align: right;\n",
       "    }\n",
       "</style>\n",
       "<table border=\"1\" class=\"dataframe\">\n",
       "  <thead>\n",
       "    <tr style=\"text-align: right;\">\n",
       "      <th></th>\n",
       "      <th>Variable</th>\n",
       "      <th>Mean</th>\n",
       "      <th>Std</th>\n",
       "    </tr>\n",
       "  </thead>\n",
       "  <tbody>\n",
       "    <tr>\n",
       "      <th>0</th>\n",
       "      <td>Age</td>\n",
       "      <td>34.05</td>\n",
       "      <td>12.19</td>\n",
       "    </tr>\n",
       "    <tr>\n",
       "      <th>1</th>\n",
       "      <td>Sex</td>\n",
       "      <td>28.95</td>\n",
       "      <td>45.35</td>\n",
       "    </tr>\n",
       "    <tr>\n",
       "      <th>2</th>\n",
       "      <td>administrator</td>\n",
       "      <td>8.38</td>\n",
       "      <td>27.71</td>\n",
       "    </tr>\n",
       "    <tr>\n",
       "      <th>3</th>\n",
       "      <td>artist</td>\n",
       "      <td>2.97</td>\n",
       "      <td>16.97</td>\n",
       "    </tr>\n",
       "    <tr>\n",
       "      <th>4</th>\n",
       "      <td>doctor</td>\n",
       "      <td>0.74</td>\n",
       "      <td>8.58</td>\n",
       "    </tr>\n",
       "    <tr>\n",
       "      <th>5</th>\n",
       "      <td>educator</td>\n",
       "      <td>10.07</td>\n",
       "      <td>30.1</td>\n",
       "    </tr>\n",
       "    <tr>\n",
       "      <th>6</th>\n",
       "      <td>engineer</td>\n",
       "      <td>7.1</td>\n",
       "      <td>25.69</td>\n",
       "    </tr>\n",
       "    <tr>\n",
       "      <th>7</th>\n",
       "      <td>entertainment</td>\n",
       "      <td>1.91</td>\n",
       "      <td>13.68</td>\n",
       "    </tr>\n",
       "    <tr>\n",
       "      <th>8</th>\n",
       "      <td>executive</td>\n",
       "      <td>3.39</td>\n",
       "      <td>18.11</td>\n",
       "    </tr>\n",
       "    <tr>\n",
       "      <th>9</th>\n",
       "      <td>healthcare</td>\n",
       "      <td>1.7</td>\n",
       "      <td>12.91</td>\n",
       "    </tr>\n",
       "    <tr>\n",
       "      <th>10</th>\n",
       "      <td>homemaker</td>\n",
       "      <td>0.74</td>\n",
       "      <td>8.58</td>\n",
       "    </tr>\n",
       "    <tr>\n",
       "      <th>11</th>\n",
       "      <td>lawyer</td>\n",
       "      <td>1.27</td>\n",
       "      <td>11.21</td>\n",
       "    </tr>\n",
       "    <tr>\n",
       "      <th>12</th>\n",
       "      <td>librarian</td>\n",
       "      <td>5.41</td>\n",
       "      <td>22.62</td>\n",
       "    </tr>\n",
       "    <tr>\n",
       "      <th>13</th>\n",
       "      <td>marketing</td>\n",
       "      <td>2.76</td>\n",
       "      <td>16.37</td>\n",
       "    </tr>\n",
       "    <tr>\n",
       "      <th>14</th>\n",
       "      <td>none</td>\n",
       "      <td>0.95</td>\n",
       "      <td>9.72</td>\n",
       "    </tr>\n",
       "    <tr>\n",
       "      <th>15</th>\n",
       "      <td>other</td>\n",
       "      <td>11.13</td>\n",
       "      <td>31.46</td>\n",
       "    </tr>\n",
       "    <tr>\n",
       "      <th>16</th>\n",
       "      <td>programmer</td>\n",
       "      <td>7.0</td>\n",
       "      <td>25.51</td>\n",
       "    </tr>\n",
       "    <tr>\n",
       "      <th>17</th>\n",
       "      <td>retired</td>\n",
       "      <td>1.48</td>\n",
       "      <td>12.09</td>\n",
       "    </tr>\n",
       "    <tr>\n",
       "      <th>18</th>\n",
       "      <td>salesman</td>\n",
       "      <td>1.27</td>\n",
       "      <td>11.21</td>\n",
       "    </tr>\n",
       "    <tr>\n",
       "      <th>19</th>\n",
       "      <td>scientist</td>\n",
       "      <td>3.29</td>\n",
       "      <td>17.83</td>\n",
       "    </tr>\n",
       "    <tr>\n",
       "      <th>20</th>\n",
       "      <td>student</td>\n",
       "      <td>20.78</td>\n",
       "      <td>40.58</td>\n",
       "    </tr>\n",
       "    <tr>\n",
       "      <th>21</th>\n",
       "      <td>technician</td>\n",
       "      <td>2.86</td>\n",
       "      <td>16.68</td>\n",
       "    </tr>\n",
       "    <tr>\n",
       "      <th>22</th>\n",
       "      <td>writer</td>\n",
       "      <td>4.77</td>\n",
       "      <td>21.32</td>\n",
       "    </tr>\n",
       "  </tbody>\n",
       "</table>\n",
       "</div>"
      ],
      "text/plain": [
       "         Variable   Mean    Std\n",
       "0             Age  34.05  12.19\n",
       "1             Sex  28.95  45.35\n",
       "2   administrator   8.38  27.71\n",
       "3          artist   2.97  16.97\n",
       "4          doctor   0.74   8.58\n",
       "5        educator  10.07   30.1\n",
       "6        engineer    7.1  25.69\n",
       "7   entertainment   1.91  13.68\n",
       "8       executive   3.39  18.11\n",
       "9      healthcare    1.7  12.91\n",
       "10      homemaker   0.74   8.58\n",
       "11         lawyer   1.27  11.21\n",
       "12      librarian   5.41  22.62\n",
       "13      marketing   2.76  16.37\n",
       "14           none   0.95   9.72\n",
       "15          other  11.13  31.46\n",
       "16     programmer    7.0  25.51\n",
       "17        retired   1.48  12.09\n",
       "18       salesman   1.27  11.21\n",
       "19      scientist   3.29  17.83\n",
       "20        student  20.78  40.58\n",
       "21     technician   2.86  16.68\n",
       "22         writer   4.77  21.32"
      ]
     },
     "execution_count": 4,
     "metadata": {},
     "output_type": "execute_result"
    }
   ],
   "source": [
    "variables =  ['Age', 'Sex'] + user_occupation_name.tolist()\n",
    "attributes = np.concatenate((user_age, user_sex * 100, user_occupation.T * 100)).T\n",
    "\n",
    "mean = np.round(np.mean(attributes, axis=0), 2)\n",
    "std = np.round(np.std(attributes, axis=0), 2)\n",
    "\n",
    "df_user = pd.DataFrame(np.concatenate((np.matrix(variables), np.matrix(mean), np.matrix(std)))).T\n",
    "df_user.columns = ['Variable', 'Mean', 'Std']\n",
    "df_user"
   ]
  },
  {
   "cell_type": "markdown",
   "metadata": {},
   "source": [
    "### Importation et reformatage des données associées aux films\n",
    "\n",
    "De la même façon, nous allons traiter et explorer les données associées aux films. Pour chacun des 1 682 films, nous disposons du titre, de la date de sortie en Amérique du Nord, de même que les genres auxquels il est associé."
   ]
  },
  {
   "cell_type": "code",
   "execution_count": 5,
   "metadata": {},
   "outputs": [],
   "source": [
    "movies = pd.read_csv('../data/ml-100k/u.item', sep='|', header=None, engine='python', encoding='latin-1')\n",
    "\n",
    "movie_name = np.array(movies.loc[:, 1])\n",
    "movie_genre = np.matrix(movies.loc[:, 5:])\n",
    "movie_genre_name = np.array(pd.read_csv('../data/ml-100k/u.genre', sep='|', header=None, engine='python', encoding='latin-1').loc[:, 0])"
   ]
  },
  {
   "cell_type": "code",
   "execution_count": 6,
   "metadata": {},
   "outputs": [
    {
     "data": {
      "text/html": [
       "<div>\n",
       "<style scoped>\n",
       "    .dataframe tbody tr th:only-of-type {\n",
       "        vertical-align: middle;\n",
       "    }\n",
       "\n",
       "    .dataframe tbody tr th {\n",
       "        vertical-align: top;\n",
       "    }\n",
       "\n",
       "    .dataframe thead th {\n",
       "        text-align: right;\n",
       "    }\n",
       "</style>\n",
       "<table border=\"1\" class=\"dataframe\">\n",
       "  <thead>\n",
       "    <tr style=\"text-align: right;\">\n",
       "      <th></th>\n",
       "      <th>Genre</th>\n",
       "      <th>Frequency (%)</th>\n",
       "    </tr>\n",
       "  </thead>\n",
       "  <tbody>\n",
       "    <tr>\n",
       "      <th>0</th>\n",
       "      <td>unknown</td>\n",
       "      <td>0.12</td>\n",
       "    </tr>\n",
       "    <tr>\n",
       "      <th>1</th>\n",
       "      <td>Fantasy</td>\n",
       "      <td>1.31</td>\n",
       "    </tr>\n",
       "    <tr>\n",
       "      <th>2</th>\n",
       "      <td>Film-Noir</td>\n",
       "      <td>1.43</td>\n",
       "    </tr>\n",
       "    <tr>\n",
       "      <th>3</th>\n",
       "      <td>Western</td>\n",
       "      <td>1.61</td>\n",
       "    </tr>\n",
       "    <tr>\n",
       "      <th>4</th>\n",
       "      <td>Animation</td>\n",
       "      <td>2.5</td>\n",
       "    </tr>\n",
       "    <tr>\n",
       "      <th>5</th>\n",
       "      <td>Documentary</td>\n",
       "      <td>2.97</td>\n",
       "    </tr>\n",
       "    <tr>\n",
       "      <th>6</th>\n",
       "      <td>Musical</td>\n",
       "      <td>3.33</td>\n",
       "    </tr>\n",
       "    <tr>\n",
       "      <th>7</th>\n",
       "      <td>Mystery</td>\n",
       "      <td>3.63</td>\n",
       "    </tr>\n",
       "    <tr>\n",
       "      <th>8</th>\n",
       "      <td>War</td>\n",
       "      <td>4.22</td>\n",
       "    </tr>\n",
       "    <tr>\n",
       "      <th>9</th>\n",
       "      <td>Horror</td>\n",
       "      <td>5.47</td>\n",
       "    </tr>\n",
       "    <tr>\n",
       "      <th>10</th>\n",
       "      <td>Sci-Fi</td>\n",
       "      <td>6.0</td>\n",
       "    </tr>\n",
       "    <tr>\n",
       "      <th>11</th>\n",
       "      <td>Crime</td>\n",
       "      <td>6.48</td>\n",
       "    </tr>\n",
       "    <tr>\n",
       "      <th>12</th>\n",
       "      <td>Children's</td>\n",
       "      <td>7.25</td>\n",
       "    </tr>\n",
       "    <tr>\n",
       "      <th>13</th>\n",
       "      <td>Adventure</td>\n",
       "      <td>8.03</td>\n",
       "    </tr>\n",
       "    <tr>\n",
       "      <th>14</th>\n",
       "      <td>Romance</td>\n",
       "      <td>14.68</td>\n",
       "    </tr>\n",
       "    <tr>\n",
       "      <th>15</th>\n",
       "      <td>Action</td>\n",
       "      <td>14.92</td>\n",
       "    </tr>\n",
       "    <tr>\n",
       "      <th>16</th>\n",
       "      <td>Thriller</td>\n",
       "      <td>14.92</td>\n",
       "    </tr>\n",
       "    <tr>\n",
       "      <th>17</th>\n",
       "      <td>Comedy</td>\n",
       "      <td>30.02</td>\n",
       "    </tr>\n",
       "    <tr>\n",
       "      <th>18</th>\n",
       "      <td>Drama</td>\n",
       "      <td>43.1</td>\n",
       "    </tr>\n",
       "  </tbody>\n",
       "</table>\n",
       "</div>"
      ],
      "text/plain": [
       "          Genre Frequency (%)\n",
       "0       unknown          0.12\n",
       "1       Fantasy          1.31\n",
       "2     Film-Noir          1.43\n",
       "3       Western          1.61\n",
       "4     Animation           2.5\n",
       "5   Documentary          2.97\n",
       "6       Musical          3.33\n",
       "7       Mystery          3.63\n",
       "8           War          4.22\n",
       "9        Horror          5.47\n",
       "10       Sci-Fi           6.0\n",
       "11        Crime          6.48\n",
       "12   Children's          7.25\n",
       "13    Adventure          8.03\n",
       "14      Romance         14.68\n",
       "15       Action         14.92\n",
       "16     Thriller         14.92\n",
       "17       Comedy         30.02\n",
       "18        Drama          43.1"
      ]
     },
     "execution_count": 6,
     "metadata": {},
     "output_type": "execute_result"
    }
   ],
   "source": [
    "names, scores = rearrange(movie_genre_name, np.array(np.round(np.mean(movie_genre, axis=0) * 100, 2))[0])\n",
    "df_movie = pd.DataFrame(np.concatenate((np.matrix(names), np.matrix(scores)))).T\n",
    "df_movie.columns = ['Genre', 'Frequency (%)']\n",
    "df_movie"
   ]
  },
  {
   "cell_type": "markdown",
   "metadata": {},
   "source": [
    "### Importation et reformatage des données associées aux évaluations\n",
    "\n",
    "À la base, le jeu de données comporte 100 000 lignes (une évaluation par ligne) où sont respectivement recensés le numéro d'identification de l'utilisateur, le numéro d'identification du film, l'évaluation associée et un marqueur de temps auquel le film a été visionné. Les ensembles d'entrainement et de test ont été fournis tel quel et comportent respectivement 80 et 20 milles évaluations.\n",
    "\n",
    "###### REMARQUE : \n",
    "La notion d'ensembles d'entraînement et de test dans le cadre de système de recommendation est quelque peu différente de ce que l'on voit habituellement dans un cas classique de problème supervisé. Si dans le cadre d'un problème supervisé, l'ensemble de test consiste essentiellement en de nouvelles observations (lire lignes) indépendantes des observations préalablement observées dans l'ensemble d'entrainement, le paradigme est sensiblement différent lorsque nous travaillons avec des systèmes de recommendation.\n",
    "\n",
    "Effectivement, et en raison du modèle mathématique sur lequel est basé les systèmes de recommendation, les données appartenant à l'ensemble de test ne sont pas associées à une nouvelle utilisatrice, mais bien à de nouvelles évaluations, ou des évaluations futures. Dès lors, les données associées aux ensembles d'entrainement, de validation et de test ne sont plus indépendantes tel que supposé."
   ]
  },
  {
   "cell_type": "code",
   "execution_count": 7,
   "metadata": {},
   "outputs": [],
   "source": [
    "training_set = pd.read_csv('../data/ml-100k/u1.base', delimiter='\\t')\n",
    "training_set = np.array(training_set, dtype='int')\n",
    "test_set = pd.read_csv('../data/ml-100k/u1.test', delimiter='\\t')\n",
    "test_set = np.array(test_set, dtype='int')\n",
    "\n",
    "nb_users = int(max(max(training_set[:, 0]), max(test_set[:, 0])))\n",
    "nb_items = int(max(max(training_set[:, 1]), max(test_set[:, 1])))\n",
    "\n",
    "train_set = convert(training_set, nb_users, nb_items)\n",
    "test_set = convert(test_set, nb_users, nb_items)"
   ]
  },
  {
   "cell_type": "markdown",
   "metadata": {},
   "source": [
    "Exploration des données et statistiques descriptives"
   ]
  },
  {
   "cell_type": "code",
   "execution_count": 8,
   "metadata": {},
   "outputs": [],
   "source": [
    "train_matrix = np.array(train_set)\n",
    "shape = (len(train_set), len(train_set[0]))\n",
    "train_matrix.reshape(shape)\n",
    "\n",
    "train_matrix_bool = np.where(train_matrix > 0 , 1, 0)\n",
    "\n",
    "movie_frequency = np.mean(train_matrix_bool, axis=0)\n",
    "user_watch = np.sum(train_matrix_bool, axis=1)"
   ]
  },
  {
   "cell_type": "markdown",
   "metadata": {},
   "source": [
    "##### Nombre de films évalués par individu\n",
    "Nous pourrions même en tirer un petit histogramme.\n",
    "\n",
    "##### Questions\n",
    "\n",
    "1. À quelle type de distribution devrions-nous nous attendre?\n",
    "2. Quelles autres types de statistiques pourraient être intéressantes?"
   ]
  },
  {
   "cell_type": "code",
   "execution_count": 9,
   "metadata": {},
   "outputs": [
    {
     "name": "stdout",
     "output_type": "stream",
     "text": [
      "    Mean    Std  Min  1 qrt   Med  3 qrt    Max\n",
      "0  84.83  83.76  4.0   27.0  50.0  115.0  685.0\n"
     ]
    },
    {
     "data": {
      "image/png": "[encoded data removed]",
      "text/plain": [
       "<Figure size 432x288 with 1 Axes>"
      ]
     },
     "metadata": {
      "needs_background": "light"
     },
     "output_type": "display_data"
    }
   ],
   "source": [
    "var = np.matrix(['Mean', 'Std', 'Min', '1 qrt', 'Med', '3 qrt', 'Max'])\n",
    "stats = np.matrix([np.round(np.mean(user_watch), 2), np.round(np.std(user_watch), 2), \n",
    "                   np.min(user_watch), np.percentile(user_watch, 25),\n",
    "           np.median(user_watch),np.percentile(user_watch, 75), np.max(user_watch)])\n",
    "\n",
    "df = pd.DataFrame(stats)\n",
    "df.columns = ['Mean', 'Std', 'Min', '1 qrt', 'Med', '3 qrt', 'Max']\n",
    "print(df)\n",
    "\n",
    "import matplotlib.mlab as mlab\n",
    "import matplotlib.patches as mpatches\n",
    "\n",
    "plt.hist(user_watch.T , 100)\n",
    "plt.xlabel('Movies watched')\n",
    "plt.ylabel('User')\n",
    "plt.show()"
   ]
  },
  {
   "cell_type": "markdown",
   "metadata": {},
   "source": [
    "###### Nombre d'évaluations par films"
   ]
  },
  {
   "cell_type": "code",
   "execution_count": 10,
   "metadata": {},
   "outputs": [
    {
     "name": "stdout",
     "output_type": "stream",
     "text": [
      "   Mean   Std  Min     1 qrt       Med     3 qrt       Max\n",
      "0  0.05  0.07  0.0  0.005302  0.022269  0.066808  0.513256\n"
     ]
    },
    {
     "data": {
      "image/png": "[encoded data removed]",
      "text/plain": [
       "<Figure size 432x288 with 1 Axes>"
      ]
     },
     "metadata": {
      "needs_background": "light"
     },
     "output_type": "display_data"
    }
   ],
   "source": [
    "var = np.matrix(['Mean', 'Std', 'Min', '1 qrt', 'Med', '3 qrt', 'Max'])\n",
    "stats = np.matrix([np.round(np.mean(movie_frequency), 2), np.round(np.std(movie_frequency), 2), \n",
    "                   np.min(movie_frequency), np.percentile(movie_frequency, 25),\n",
    "           np.median(movie_frequency),np.percentile(movie_frequency, 75), np.max(movie_frequency)])\n",
    "\n",
    "df = pd.DataFrame(stats)\n",
    "df.columns = ['Mean', 'Std', 'Min', '1 qrt', 'Med', '3 qrt', 'Max']\n",
    "print(df)\n",
    "\n",
    "plt.hist(movie_frequency , 100)\n",
    "plt.xlabel('Movies watched')\n",
    "plt.ylabel('User')\n",
    "plt.show()"
   ]
  },
  {
   "cell_type": "markdown",
   "metadata": {},
   "source": [
    "##### Créations des sous-ensembles d'entrainement et de validation\n",
    "\n",
    "Enfin, pour obtenir le meilleur modèle, et fixer l'ensemble des paramètres et hyperparamètres optimaux, nous devons construire des sous-ensembles d'entrainement et de validation. Puisque le but de l'atelier n'est pas d'étudier la notion de biais systèmatique associée à la présence de données manquantes dans les systèmes de recommendation, nous allons naïvement supposer que chacune des évaluations sont indépendantes les unes des autres. "
   ]
  },
  {
   "cell_type": "code",
   "execution_count": 11,
   "metadata": {},
   "outputs": [],
   "source": [
    "def split(data, ratio, tensor=False):\n",
    "\n",
    "    train, valid = np.zeros((len(data), len(data[0]))).tolist(), np.zeros((len(data), len(data[0]))).tolist()\n",
    "\n",
    "    for i in range(len(data)):\n",
    "        for j in range(len(data[i])):\n",
    "            if data[i][j] > 0:\n",
    "                if np.random.binomial(1, ratio, 1):\n",
    "                    train[i][j] = data[i][j]\n",
    "                else:\n",
    "                    valid[i][j] = data[i][j]\n",
    "\n",
    "    return [train, valid]\n",
    "\n",
    "train = split(train_set, 0.8)\n",
    "test = test_set"
   ]
  },
  {
   "cell_type": "markdown",
   "metadata": {},
   "source": [
    "## Système de recommendation basé sur la factorisation matricielle\n",
    "\n",
    "Mettre description"
   ]
  },
  {
   "cell_type": "code",
   "execution_count": 59,
   "metadata": {},
   "outputs": [],
   "source": [
    "class RSMF(object):\n",
    "    \n",
    "    def __init__(self, ratings, intercept, implicit, user_attributes, item_name, item_genre, item_genre_name, stopping_criterion, attributes=False):\n",
    "        \n",
    "        self.model = {'intercept': intercept, 'implicit': implicit}\n",
    "        \n",
    "        self.Q = None\n",
    "        self.P = None\n",
    "        \n",
    "        self.user_intercept = None\n",
    "        self.item_intercept = None\n",
    "        \n",
    "        self.U = None                \n",
    "        \n",
    "        self.ratings = ratings\n",
    "        \n",
    "        self.attributes = attributes\n",
    "        self.user_attributes = user_attributes\n",
    "        \n",
    "        self.item_name = item_name\n",
    "        self.item_genre = item_genre\n",
    "        self.item_genre_name = item_genre_name\n",
    "        \n",
    "        self.stopping_cirterion = stopping_criterion\n",
    "    \n",
    "    def __initialization(self, nb_users, nb_items, nb_attributes, nb_latent):\n",
    "\n",
    "        self.P = np.random.rand(nb_users, nb_latent)\n",
    "        self.Q = np.random.rand(nb_items, nb_latent)\n",
    "\n",
    "        if self.model['implicit']:\n",
    "            self.U = np.random.rand(nb_items, nb_attributes)\n",
    "        else:\n",
    "            self.U = np.zeros((nb_items, nb_attributes))\n",
    "\n",
    "        if self.model['intercept']:\n",
    "            self.users_intercept, self.items_intercept = np.random.rand(nb_users), np.random.rand(nb_items)\n",
    "        else:\n",
    "            self.users_intercept, self.items_intercept = np.zeros(nb_users), np.zeros(nb_items)\n",
    "\n",
    "            \n",
    "            \n",
    "            \n",
    "  \n",
    "\n",
    "\n",
    "\n",
    "    def predict_instance(self, user_id, user_ratings, user_attributes, top_what):\n",
    "\n",
    "        estimates_all, estimates_new = [], []\n",
    "\n",
    "        for item_id in np.arange(len(user_ratings)):\n",
    "            estimates_all.append(np.dot(self.P[user_id, :], self.Q[item_id, :]) + \\\n",
    "                                 self.users_intercept[user_id] + self.items_intercept[item_id] + \\\n",
    "                                 np.dot(user_attributes, self.U[item_id, :]))\n",
    "            #estimates_all.append(np.dot(self.P[user_id, :], self.Q[item_id, :]))\n",
    "\n",
    "            if user_ratings[item_id] == 0:\n",
    "                estimates_new.append(estimates_all[item_id])\n",
    "            else:\n",
    "                estimates_new.append(0)\n",
    "                \n",
    "            recommendations = rearrange(self.items_names, estimates_new)[0][-top_what:]\n",
    "\n",
    "        return recommendations\n",
    "\n",
    "    #  à arranger\n",
    "    def predict_all(self):\n",
    "        return np.dot(self.P, self.Q.T)\n",
    "\n",
    "    #  à arranger\n",
    "    def get_models(self):\n",
    "        return self.P, self.Q\n",
    "\n",
    "    def __error(self, ratings, user_attributes, id_user, id_item):\n",
    "\n",
    "        real = ratings[id_user][id_item]\n",
    "        estimate = np.dot(self.P[id_user, :], self.Q[id_item, :]) + self.users_intercept[id_user] + \\\n",
    "                   self.items_intercept[id_item] + np.dot(user_attributes[id_user], self.U[id_item, :])\n",
    "\n",
    "        return real - estimate\n",
    "\n",
    "    def loss(self, data, user_attributes):\n",
    "\n",
    "        e = 0\n",
    "        nb_ratings = 0\n",
    "\n",
    "        for i in range(len(data)):\n",
    "            for j in range(len(data[i])):\n",
    "                if data[i][j] > 0:\n",
    "                    nb_ratings += 1\n",
    "                    e += self.__error(data, user_attributes, i, j) ** 2\n",
    "        return e / nb_ratings\n",
    "\n",
    "\n",
    "    \n",
    "    \n",
    "    \n",
    "    def fit(self, nb_latent_features=10, lr=0.0002, \n",
    "            iterations=5, regularization_penalty=0.02, convergeance_threshold=0.001):\n",
    "\n",
    "        if not self.user_attributes:\n",
    "            self.user_attributes = [[0] * 3] * len(user_x_product[0])\n",
    "        \n",
    "        return self.__factor_matrix(nb_latent_features, lr, iterations, regularization_penalty, convergeance_threshold)\n",
    "    \n",
    "    def __factor_matrix(self, ratings, user_attributes, nb_latent, lr, iterations, regularization, error_limit):\n",
    "\n",
    "        train, valid = ratings[0], ratings[1]\n",
    "        nb_users, nb_attributes, nb_items = len(train), len(user_attributes[0]), len(train[0])\n",
    "        cpt = 0\n",
    "\n",
    "        self.__initialization(nb_users, nb_items, nb_attributes, nb_latent)\n",
    "\n",
    "        # learning parameters via stochastic gradient descent\n",
    "        for step in range(iterations):\n",
    "            cpt += 1\n",
    "\n",
    "            for i in range(nb_users):\n",
    "                for j in range(nb_items):\n",
    "\n",
    "                    if train[i][j] > 0:\n",
    "                        eij = self.__error(train, user_attributes, i, j)\n",
    "\n",
    "                        for l in range(nb_latent):\n",
    "                            self.P[i, l] = self.P[i, l] + lr * (eij * self.Q[j, l] - regularization * self.P[i, l])\n",
    "                            self.Q[j, l] = self.Q[j, l] + lr * (eij * self.P[i, l] - regularization * self.Q[j, l])\n",
    "\n",
    "                        if self.model['implicit']:\n",
    "                            self.U[j, :] = self.U[j, :] + lr * (\n",
    "                                        eij * np.asarray(user_attributes[i]) - regularization * self.U[j, :])\n",
    "\n",
    "                        if self.model['intercept']:\n",
    "                            self.users_intercept[i] = self.users_intercept[i] + lr * (\n",
    "                                        eij - regularization * self.users_intercept[i])\n",
    "                            self.items_intercept[j] = self.items_intercept[j] + lr * (\n",
    "                                        eij - regularization * self.items_intercept[j])\n",
    "\n",
    "            # Calculating the loss\n",
    "            error_train = self.loss(train, user_attributes)\n",
    "            error_valid = self.loss(valid, user_attributes)\n",
    "            self.__print_fit_stats(error_train, error_valid, cpt)\n",
    "\n",
    "            # Stopping criterion (irrelevant)\n",
    "            if error_train < error_limit:\n",
    "                break\n",
    "\n",
    "        self.__print_fit_stats(error_train, error_valid, cpt, True)\n",
    "\n",
    "\n",
    "        \n",
    "        \n",
    "   \n",
    "\n",
    "\n",
    "\n",
    "        \n",
    "    def __print_fit_stats(self, error_train, error_valid, cpt, final=False):\n",
    "\n",
    "        if final == False:\n",
    "            if cpt == 1:\n",
    "                print('------------------------------')\n",
    "                print('Iteration    Error train    Error Valid')\n",
    "\n",
    "            print(cpt, '%0.6f' % error_train, '%0.6f' % error_valid)\n",
    "\n",
    "        else:\n",
    "            print('------------------------------')\n",
    "            print('Stats final model')\n",
    "            print('Iteration: %0.2f' % cpt)\n",
    "            print('Error train: %0.3f' % error_train)\n",
    "            print('Error valid: %0.3f' % error_valid)\n",
    "            print('------------------------------')\n"
   ]
  },
  {
   "cell_type": "markdown",
   "metadata": {},
   "source": [
    "#### Paramètres considérés\n",
    "\n",
    "Mettre description"
   ]
  },
  {
   "cell_type": "code",
   "execution_count": 54,
   "metadata": {},
   "outputs": [],
   "source": [
    "latent_features = 20\n",
    "intercept = False\n",
    "implicit = False"
   ]
  },
  {
   "cell_type": "markdown",
   "metadata": {},
   "source": [
    "#### Hyperparamètres considérés\n",
    "\n",
    "Mettre description"
   ]
  },
  {
   "cell_type": "code",
   "execution_count": 55,
   "metadata": {},
   "outputs": [],
   "source": [
    "learning_rate = 0.002\n",
    "iterations = 2\n",
    "regularization = 0.02\n",
    "stop_crit = 0.002"
   ]
  },
  {
   "cell_type": "markdown",
   "metadata": {},
   "source": [
    "### Entrainement du modèle\n",
    "\n",
    "Mettre description - Ça serait bien de superposer les différentes courbes en temps réel"
   ]
  },
  {
   "cell_type": "code",
   "execution_count": 58,
   "metadata": {
    "scrolled": false
   },
   "outputs": [
    {
     "name": "stdout",
     "output_type": "stream",
     "text": [
      "0\n",
      "1\n",
      "2\n",
      "3\n",
      "4\n"
     ]
    }
   ],
   "source": [
    "mf = RSMF(train, intercept, implicit, user_attributes, movie_name, \n",
    "                        movie_genre, movie_genre_name, stop_crit, attributes)\n",
    "\n",
    "mf.fit(nb_latent_features=10, lr=0.0002, \n",
    "            iterations=5, regularization_penalty=0.02, convergeance_threshold=0.001)"
   ]
  },
  {
   "cell_type": "code",
   "execution_count": 46,
   "metadata": {},
   "outputs": [
    {
     "data": {
      "text/plain": [
       "(1682, 19)"
      ]
     },
     "execution_count": 46,
     "metadata": {},
     "output_type": "execute_result"
    }
   ],
   "source": []
  },
  {
   "cell_type": "code",
   "execution_count": null,
   "metadata": {},
   "outputs": [],
   "source": []
  },
  {
   "cell_type": "code",
   "execution_count": 17,
   "metadata": {},
   "outputs": [
    {
     "data": {
      "text/plain": [
       "['Cemetery Man (Dellamorte Dellamore) (1994)',\n",
       " 'Frisk (1995)',\n",
       " 'Low Down Dirty Shame, A (1994)',\n",
       " 'Hugo Pool (1997)',\n",
       " 'Body Snatchers (1993)']"
      ]
     },
     "execution_count": 17,
     "metadata": {},
     "output_type": "execute_result"
    }
   ],
   "source": [
    "id = 0\n",
    "ratings = train_set[id]\n",
    "attributes = user_attributes[id]\n",
    "top_what = 5\n",
    "\n",
    "model.predict_instance(id, ratings, attributes, top_what)"
   ]
  },
  {
   "cell_type": "code",
   "execution_count": 18,
   "metadata": {},
   "outputs": [],
   "source": [
    "movie_names = np.array(movies.loc[:, 1])\n",
    "movies_genre = np.matrix(movies.loc[:, 5:])\n",
    "movies_genre_names = np.array(pd.read_csv('../data/ml-100k/u.genre', sep='|', header=None, engine='python', encoding='latin-1').loc[:, 0])"
   ]
  },
  {
   "cell_type": "code",
   "execution_count": 19,
   "metadata": {},
   "outputs": [],
   "source": [
    "def test(user_id, user_ratings, user_attributes, top_what):\n",
    "\n",
    "    estimates_all, estimates_new = [], []\n",
    "\n",
    "    for item_id in np.arange(len(user_ratings)):\n",
    "        estimates_all.append(np.dot(model.P[user_id, :], model.Q[item_id, :]) + \\\n",
    "                             model.users_intercept[user_id] + model.items_intercept[item_id] + \\\n",
    "                             np.dot(user_attributes, model.U[item_id, :]))\n",
    "\n",
    "        if user_ratings[item_id] == 0:\n",
    "            estimates_new.append(estimates_all[item_id])\n",
    "        else:\n",
    "            estimates_new.append(0)\n",
    "            \n",
    "        recommendations = rearrange(model.items_names, estimates_new)[0][-top_what:]\n",
    "    return recommendations"
   ]
  },
  {
   "cell_type": "code",
   "execution_count": 20,
   "metadata": {},
   "outputs": [
    {
     "data": {
      "text/plain": [
       "['Bitter Moon (1992)',\n",
       " 'Eye for an Eye (1996)',\n",
       " 'Queen Margot (Reine Margot, La) (1994)',\n",
       " 'Paris Is Burning (1990)',\n",
       " 'That Old Feeling (1997)',\n",
       " 'Cemetery Man (Dellamorte Dellamore) (1994)',\n",
       " 'Frisk (1995)',\n",
       " 'Low Down Dirty Shame, A (1994)',\n",
       " 'Hugo Pool (1997)',\n",
       " 'Body Snatchers (1993)']"
      ]
     },
     "execution_count": 20,
     "metadata": {},
     "output_type": "execute_result"
    }
   ],
   "source": [
    "test(0, train_set[0], user_attributes[id], 10)"
   ]
  },
  {
   "cell_type": "markdown",
   "metadata": {},
   "source": [
    "#### Évaluation finale sur l'ensembles de test\n",
    "\n",
    "Mettre description"
   ]
  },
  {
   "cell_type": "code",
   "execution_count": 21,
   "metadata": {},
   "outputs": [
    {
     "name": "stdout",
     "output_type": "stream",
     "text": [
      "2.6499090424435257\n"
     ]
    }
   ],
   "source": [
    "test_error = model.loss(test_set, user_attributes)\n",
    "print(test_error)"
   ]
  },
  {
   "cell_type": "markdown",
   "metadata": {},
   "source": [
    "### Analyse des performances générales et visualisation des résultats\n",
    "\n",
    "Visualisation des résultats: parler des prédictions en fonction:\n",
    "1. des attributs de l'utilisateur (sexe, age occupation)\n",
    "2. des genre de films"
   ]
  },
  {
   "cell_type": "code",
   "execution_count": null,
   "metadata": {},
   "outputs": [],
   "source": []
  },
  {
   "cell_type": "code",
   "execution_count": null,
   "metadata": {},
   "outputs": [],
   "source": []
  },
  {
   "cell_type": "markdown",
   "metadata": {},
   "source": [
    "### Au-delà des statistiques, un exemple concret\n",
    "\n",
    "Fonction pour effectuer les meilleures recommendations en fonction de certains critères (intégrés dans la classe). Dans un premier temps, nous pouvons suggérer les 'k' meilleures recommendations pour un usager en particulier. Naturellement, les recommendations faites ne suggèrent que des films non visionnés par l'usager."
   ]
  },
  {
   "cell_type": "code",
   "execution_count": 11,
   "metadata": {},
   "outputs": [
    {
     "ename": "TypeError",
     "evalue": "predict_instance() takes 3 positional arguments but 4 were given",
     "output_type": "error",
     "traceback": [
      "\u001b[0;31m---------------------------------------------------------------------------\u001b[0m",
      "\u001b[0;31mTypeError\u001b[0m                                 Traceback (most recent call last)",
      "\u001b[0;32m<ipython-input-11-dc49adbbe849>\u001b[0m in \u001b[0;36m<module>\u001b[0;34m\u001b[0m\n\u001b[1;32m      3\u001b[0m \u001b[0mtop_what\u001b[0m \u001b[0;34m=\u001b[0m \u001b[0;36m10\u001b[0m\u001b[0;34m\u001b[0m\u001b[0;34m\u001b[0m\u001b[0m\n\u001b[1;32m      4\u001b[0m \u001b[0;34m\u001b[0m\u001b[0m\n\u001b[0;32m----> 5\u001b[0;31m \u001b[0mmodel\u001b[0m\u001b[0;34m.\u001b[0m\u001b[0mpredict_instance\u001b[0m\u001b[0;34m(\u001b[0m\u001b[0muser_id\u001b[0m\u001b[0;34m,\u001b[0m \u001b[0mratings\u001b[0m\u001b[0;34m,\u001b[0m \u001b[0mtop_what\u001b[0m\u001b[0;34m)\u001b[0m\u001b[0;34m\u001b[0m\u001b[0;34m\u001b[0m\u001b[0m\n\u001b[0m",
      "\u001b[0;31mTypeError\u001b[0m: predict_instance() takes 3 positional arguments but 4 were given"
     ]
    }
   ],
   "source": [
    "user_id = 0\n",
    "ratings = train_set[user_id]\n",
    "top_what = 10\n",
    "\n",
    "model.predict_instance(user_id, ratings, top_what)"
   ]
  },
  {
   "cell_type": "markdown",
   "metadata": {},
   "source": [
    "En s'attardant un peu aux nouvelles recommendations faites, on peut identifier le comportement de l'usager et ses préférences en terme de genre."
   ]
  },
  {
   "cell_type": "code",
   "execution_count": null,
   "metadata": {},
   "outputs": [],
   "source": []
  },
  {
   "cell_type": "markdown",
   "metadata": {},
   "source": [
    "En fait, ça pourrait être intéressant de proposer à l'usager des films en fonction de ces préférences du moment en fonction du genre."
   ]
  },
  {
   "cell_type": "code",
   "execution_count": null,
   "metadata": {},
   "outputs": [],
   "source": [
    "genre = 'Action'\n",
    "model.predict_instance(user_id, ratings, top_what, genre)"
   ]
  },
  {
   "cell_type": "markdown",
   "metadata": {},
   "source": [
    "Peut-être même pourrions-nous sonder son incontient (lire les couches latentes du modèle) et de lui proposer de nouveaux films que lui-même n'imaginait pas aimer. Ces recommendations sont faites au-delà des genres explicitement définis dans le jeu de données initial. Pour plus de détail, voir la section supplément."
   ]
  },
  {
   "cell_type": "code",
   "execution_count": null,
   "metadata": {},
   "outputs": [],
   "source": []
  },
  {
   "cell_type": "markdown",
   "metadata": {},
   "source": [
    "### Supplément - Dans la psyché du modèle (ou l'exploration des couches latentes)\n",
    "\n",
    "Mettre commentaires"
   ]
  },
  {
   "cell_type": "code",
   "execution_count": 22,
   "metadata": {},
   "outputs": [],
   "source": [
    "def rearrange(items, ratings):\n",
    "    attribute, scores = [], []\n",
    "    ranking = np.argsort(ratings)\n",
    "\n",
    "    for k in np.arange(len(ranking)):\n",
    "        attribute.append(items[ranking[k]])\n",
    "        scores.append(ratings[ranking[k]])\n",
    "\n",
    "    return attribute, scores"
   ]
  },
  {
   "cell_type": "code",
   "execution_count": 23,
   "metadata": {},
   "outputs": [
    {
     "ename": "NameError",
     "evalue": "name 'recfact' is not defined",
     "output_type": "error",
     "traceback": [
      "\u001b[0;31m---------------------------------------------------------------------------\u001b[0m",
      "\u001b[0;31mNameError\u001b[0m                                 Traceback (most recent call last)",
      "\u001b[0;32m<ipython-input-23-9e9bf202683f>\u001b[0m in \u001b[0;36m<module>\u001b[0;34m\u001b[0m\n\u001b[1;32m      1\u001b[0m \u001b[0mnb\u001b[0m \u001b[0;34m=\u001b[0m \u001b[0;36m3\u001b[0m\u001b[0;34m\u001b[0m\u001b[0;34m\u001b[0m\u001b[0m\n\u001b[1;32m      2\u001b[0m \u001b[0;34m\u001b[0m\u001b[0m\n\u001b[0;32m----> 3\u001b[0;31m \u001b[0mratings\u001b[0m \u001b[0;34m=\u001b[0m \u001b[0mrecfact\u001b[0m\u001b[0;34m.\u001b[0m\u001b[0mQ\u001b[0m\u001b[0;34m[\u001b[0m\u001b[0;34m:\u001b[0m\u001b[0;34m,\u001b[0m \u001b[0;36m0\u001b[0m\u001b[0;34m]\u001b[0m\u001b[0;34m\u001b[0m\u001b[0;34m\u001b[0m\u001b[0m\n\u001b[0m\u001b[1;32m      4\u001b[0m \u001b[0mmovie_names\u001b[0m \u001b[0;34m=\u001b[0m \u001b[0mmovies\u001b[0m\u001b[0;34m.\u001b[0m\u001b[0mloc\u001b[0m\u001b[0;34m[\u001b[0m\u001b[0;34m:\u001b[0m\u001b[0;34m,\u001b[0m \u001b[0;36m1\u001b[0m\u001b[0;34m]\u001b[0m\u001b[0;34m\u001b[0m\u001b[0;34m\u001b[0m\u001b[0m\n\u001b[1;32m      5\u001b[0m \u001b[0msorted_names\u001b[0m\u001b[0;34m,\u001b[0m \u001b[0msorted_scores\u001b[0m \u001b[0;34m=\u001b[0m \u001b[0mrearrange\u001b[0m\u001b[0;34m(\u001b[0m\u001b[0mmovie_names\u001b[0m\u001b[0;34m,\u001b[0m \u001b[0mratings\u001b[0m\u001b[0;34m)\u001b[0m\u001b[0;34m\u001b[0m\u001b[0;34m\u001b[0m\u001b[0m\n",
      "\u001b[0;31mNameError\u001b[0m: name 'recfact' is not defined"
     ]
    }
   ],
   "source": [
    "nb = 3\n",
    "\n",
    "ratings = recfact.Q[:, 0]\n",
    "movie_names = movies.loc[:, 1]\n",
    "sorted_names, sorted_scores = rearrange(movie_names, ratings)\n",
    "\n",
    "low_names, low_scores = sorted_names[:nb], sorted_scores[:nb]\n",
    "\n",
    "high_names, high_scores = sorted_names[-nb:], sorted_scores[-nb:]\n",
    "\n",
    "center = int(len(names)/2)\n",
    "center_names, center_scores = sorted_names[(center): (center+1)], sorted_scores[(center): (center+1)]\n",
    "\n",
    "scores = low_scores + center_scores + high_scores\n",
    "names = low_names + center_names + high_names"
   ]
  },
  {
   "cell_type": "code",
   "execution_count": null,
   "metadata": {},
   "outputs": [],
   "source": []
  },
  {
   "cell_type": "code",
   "execution_count": null,
   "metadata": {},
   "outputs": [],
   "source": []
  },
  {
   "cell_type": "code",
   "execution_count": null,
   "metadata": {},
   "outputs": [],
   "source": []
  }
 ],
 "metadata": {
  "kernelspec": {
   "display_name": "Python 3",
   "language": "python",
   "name": "python3"
  },
  "language_info": {
   "codemirror_mode": {
    "name": "ipython",
    "version": 3
   },
   "file_extension": ".py",
   "mimetype": "text/x-python",
   "name": "python",
   "nbconvert_exporter": "python",
   "pygments_lexer": "ipython3",
   "version": "3.7.3"
  }
 },
 "nbformat": 4,
 "nbformat_minor": 2
}
