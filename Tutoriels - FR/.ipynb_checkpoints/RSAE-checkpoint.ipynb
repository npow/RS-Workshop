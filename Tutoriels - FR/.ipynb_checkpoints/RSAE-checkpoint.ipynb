{
 "cells": [
  {
   "cell_type": "code",
   "execution_count": 1,
   "metadata": {},
   "outputs": [],
   "source": [
    "import numpy as np\n",
    "import pandas as pd\n",
    "import matplotlib.pyplot as plt\n",
    "\n",
    "import torch\n",
    "import torch.nn as nn\n",
    "import torch.nn.parallel\n",
    "import torch.optim as optim\n",
    "import torch.utils.data\n",
    "\n",
    "from torch.nn import functional\n",
    "from torch.autograd import Variable"
   ]
  },
  {
   "cell_type": "markdown",
   "metadata": {},
   "source": [
    "Fonctions utilitaires random en attendant de voir que ça existe dans numpy..."
   ]
  },
  {
   "cell_type": "code",
   "execution_count": 2,
   "metadata": {},
   "outputs": [],
   "source": [
    "def top(vector, maximum, k):        \n",
    "    c = maximum * np.argsort(scores)[-k:] + (1 - maximum) * np.argsort(scores)[:k]\n",
    "    d = []\n",
    "    for i in np.arange(len(c)):\n",
    "        d.append(vector[c[i]])\n",
    "    return d\n",
    "\n",
    "def rearrange(items, ratings):\n",
    "    attribute, scores = [], []\n",
    "    ranking = np.argsort(ratings)\n",
    "\n",
    "    for k in np.arange(len(ranking)):\n",
    "        attribute.append(items[ranking[k]])\n",
    "        scores.append(ratings[ranking[k]])\n",
    "\n",
    "    return attribute, scores\n",
    "\n",
    "def convert(data, nb_users, nb_movies):\n",
    "    new_data = []\n",
    "    for id_users in range(1, nb_users + 1):\n",
    "        id_movies = data[:,1][data[:,0] == id_users]\n",
    "        id_ratings = data[:,2][data[:,0] == id_users]\n",
    "        ratings = np.zeros(nb_movies)\n",
    "        ratings[id_movies - 1] = id_ratings\n",
    "        new_data.append(list(ratings))\n",
    "    return new_data\n",
    "\n",
    "def inner_concatenation(a, b):\n",
    "    c = []\n",
    "    for k in np.arange(len(a)):\n",
    "        c.append(a[k]+b[k])\n",
    "    return c\n",
    "\n",
    "def transform(user_sex, user_age, user_occupation):\n",
    "\n",
    "    argument = users_occupation_name.tolist().index(user_occupation)\n",
    "    empty = np.zeros(len(users_occupation_name)) \n",
    "    empty[argument] = 1\n",
    "\n",
    "    if user_sex == 'Male':\n",
    "        user_sex = 0\n",
    "    else:\n",
    "        user_sex = 1\n",
    "    \n",
    "    return np.concatenate(([user_sex], [user_age], empty.T)).T.tolist()"
   ]
  },
  {
   "cell_type": "markdown",
   "metadata": {},
   "source": [
    "## MoviesLens - Exploration des données\n",
    "\n",
    "Les données que nous allons manipuler afin d'explorer différents types de systèmes de recommendation sont celles associées au projet MovieLens (https://grouplens.org/datasets/movielens/). Brièvement, les données utilisées consistent ici en plus ou moins 100 000 évaluations de films par 943 utilisateurs et où un ensemble de 1 682 films étaient disponibles en visionnement. En plus des 100 000 évaluations à notre disposition, nous avons les informations complémentaires liées à chacun des usagers de même qu'à chacun des films.\n",
    "\n",
    "Enfin, la base de données est téléchargeable ici: https://grouplens.org/datasets/movielens/100k/ ."
   ]
  },
  {
   "cell_type": "code",
   "execution_count": null,
   "metadata": {},
   "outputs": [],
   "source": []
  },
  {
   "cell_type": "markdown",
   "metadata": {},
   "source": [
    "### Importation et traitement des données associées aux usagers\n",
    "\n",
    "Avant de présenter les statistiques descriptives liées à la population étudiée, nous allons dans un premier temps traiter les données associées aux usagers afin de pouvoir plus aisément les manipuler. Notons que l'occupation de chacun des utilisateurs étant une chaîne de caractères, nous avons recodé les 21 occupations possibles en booléen."
   ]
  },
  {
   "cell_type": "code",
   "execution_count": 3,
   "metadata": {},
   "outputs": [],
   "source": [
    "users = pd.read_csv('../data/ml-100k/u.user', sep='|', header=None, engine='python', encoding='latin-1')\n",
    "\n",
    "# age\n",
    "user_age = np.matrix(users.loc[:, 1])\n",
    "\n",
    "# sexe\n",
    "user_sex = np.where(np.matrix(users.loc[:, 2]) == 'M', 0, 1)\n",
    "\n",
    "# occupation\n",
    "user_occupation_name = np.array(pd.read_csv('../data/ml-100k/u.occupation', sep='|', header=None, engine='python', encoding='latin-1').loc[:, 0])\n",
    "user_occupation = np.array(users.loc[:, 3])\n",
    "\n",
    "# recodage en booleen\n",
    "occupation_matrix = np.zeros((len(users), len(user_occupation_name)))\n",
    "for i in np.arange(len(users)): \n",
    "    i_occupation = user_occupation[i]\n",
    "        \n",
    "    for j in np.arange(len(user_occupation_name)):\n",
    "        if i_occupation == user_occupation_name[j]:\n",
    "            occupation_matrix[i, j] = 1\n",
    "            break            \n",
    "user_occupation = occupation_matrix\n",
    "\n",
    "# concatenation des differentes donnees sociodemographiques sous forme de liste\n",
    "user_attributes = np.concatenate((user_age, user_sex, user_occupation.T)).T.tolist()\n"
   ]
  },
  {
   "cell_type": "markdown",
   "metadata": {},
   "source": [
    "Nous explorons par la suite les différentes statistiques descriptives associées aux usagers. Celles-ci comportent des informations en lien avec l'âge, le sexe et l'occupation de chacun des usagers."
   ]
  },
  {
   "cell_type": "code",
   "execution_count": 4,
   "metadata": {},
   "outputs": [
    {
     "data": {
      "text/html": [
       "<div>\n",
       "<style scoped>\n",
       "    .dataframe tbody tr th:only-of-type {\n",
       "        vertical-align: middle;\n",
       "    }\n",
       "\n",
       "    .dataframe tbody tr th {\n",
       "        vertical-align: top;\n",
       "    }\n",
       "\n",
       "    .dataframe thead th {\n",
       "        text-align: right;\n",
       "    }\n",
       "</style>\n",
       "<table border=\"1\" class=\"dataframe\">\n",
       "  <thead>\n",
       "    <tr style=\"text-align: right;\">\n",
       "      <th></th>\n",
       "      <th>Variable</th>\n",
       "      <th>Mean</th>\n",
       "      <th>Std</th>\n",
       "    </tr>\n",
       "  </thead>\n",
       "  <tbody>\n",
       "    <tr>\n",
       "      <th>0</th>\n",
       "      <td>Age</td>\n",
       "      <td>34.05</td>\n",
       "      <td>12.19</td>\n",
       "    </tr>\n",
       "    <tr>\n",
       "      <th>1</th>\n",
       "      <td>Sex</td>\n",
       "      <td>28.95</td>\n",
       "      <td>45.35</td>\n",
       "    </tr>\n",
       "    <tr>\n",
       "      <th>2</th>\n",
       "      <td>administrator</td>\n",
       "      <td>8.38</td>\n",
       "      <td>27.71</td>\n",
       "    </tr>\n",
       "    <tr>\n",
       "      <th>3</th>\n",
       "      <td>artist</td>\n",
       "      <td>2.97</td>\n",
       "      <td>16.97</td>\n",
       "    </tr>\n",
       "    <tr>\n",
       "      <th>4</th>\n",
       "      <td>doctor</td>\n",
       "      <td>0.74</td>\n",
       "      <td>8.58</td>\n",
       "    </tr>\n",
       "    <tr>\n",
       "      <th>5</th>\n",
       "      <td>educator</td>\n",
       "      <td>10.07</td>\n",
       "      <td>30.1</td>\n",
       "    </tr>\n",
       "    <tr>\n",
       "      <th>6</th>\n",
       "      <td>engineer</td>\n",
       "      <td>7.1</td>\n",
       "      <td>25.69</td>\n",
       "    </tr>\n",
       "    <tr>\n",
       "      <th>7</th>\n",
       "      <td>entertainment</td>\n",
       "      <td>1.91</td>\n",
       "      <td>13.68</td>\n",
       "    </tr>\n",
       "    <tr>\n",
       "      <th>8</th>\n",
       "      <td>executive</td>\n",
       "      <td>3.39</td>\n",
       "      <td>18.11</td>\n",
       "    </tr>\n",
       "    <tr>\n",
       "      <th>9</th>\n",
       "      <td>healthcare</td>\n",
       "      <td>1.7</td>\n",
       "      <td>12.91</td>\n",
       "    </tr>\n",
       "    <tr>\n",
       "      <th>10</th>\n",
       "      <td>homemaker</td>\n",
       "      <td>0.74</td>\n",
       "      <td>8.58</td>\n",
       "    </tr>\n",
       "    <tr>\n",
       "      <th>11</th>\n",
       "      <td>lawyer</td>\n",
       "      <td>1.27</td>\n",
       "      <td>11.21</td>\n",
       "    </tr>\n",
       "    <tr>\n",
       "      <th>12</th>\n",
       "      <td>librarian</td>\n",
       "      <td>5.41</td>\n",
       "      <td>22.62</td>\n",
       "    </tr>\n",
       "    <tr>\n",
       "      <th>13</th>\n",
       "      <td>marketing</td>\n",
       "      <td>2.76</td>\n",
       "      <td>16.37</td>\n",
       "    </tr>\n",
       "    <tr>\n",
       "      <th>14</th>\n",
       "      <td>none</td>\n",
       "      <td>0.95</td>\n",
       "      <td>9.72</td>\n",
       "    </tr>\n",
       "    <tr>\n",
       "      <th>15</th>\n",
       "      <td>other</td>\n",
       "      <td>11.13</td>\n",
       "      <td>31.46</td>\n",
       "    </tr>\n",
       "    <tr>\n",
       "      <th>16</th>\n",
       "      <td>programmer</td>\n",
       "      <td>7.0</td>\n",
       "      <td>25.51</td>\n",
       "    </tr>\n",
       "    <tr>\n",
       "      <th>17</th>\n",
       "      <td>retired</td>\n",
       "      <td>1.48</td>\n",
       "      <td>12.09</td>\n",
       "    </tr>\n",
       "    <tr>\n",
       "      <th>18</th>\n",
       "      <td>salesman</td>\n",
       "      <td>1.27</td>\n",
       "      <td>11.21</td>\n",
       "    </tr>\n",
       "    <tr>\n",
       "      <th>19</th>\n",
       "      <td>scientist</td>\n",
       "      <td>3.29</td>\n",
       "      <td>17.83</td>\n",
       "    </tr>\n",
       "    <tr>\n",
       "      <th>20</th>\n",
       "      <td>student</td>\n",
       "      <td>20.78</td>\n",
       "      <td>40.58</td>\n",
       "    </tr>\n",
       "    <tr>\n",
       "      <th>21</th>\n",
       "      <td>technician</td>\n",
       "      <td>2.86</td>\n",
       "      <td>16.68</td>\n",
       "    </tr>\n",
       "    <tr>\n",
       "      <th>22</th>\n",
       "      <td>writer</td>\n",
       "      <td>4.77</td>\n",
       "      <td>21.32</td>\n",
       "    </tr>\n",
       "  </tbody>\n",
       "</table>\n",
       "</div>"
      ],
      "text/plain": [
       "         Variable   Mean    Std\n",
       "0             Age  34.05  12.19\n",
       "1             Sex  28.95  45.35\n",
       "2   administrator   8.38  27.71\n",
       "3          artist   2.97  16.97\n",
       "4          doctor   0.74   8.58\n",
       "5        educator  10.07   30.1\n",
       "6        engineer    7.1  25.69\n",
       "7   entertainment   1.91  13.68\n",
       "8       executive   3.39  18.11\n",
       "9      healthcare    1.7  12.91\n",
       "10      homemaker   0.74   8.58\n",
       "11         lawyer   1.27  11.21\n",
       "12      librarian   5.41  22.62\n",
       "13      marketing   2.76  16.37\n",
       "14           none   0.95   9.72\n",
       "15          other  11.13  31.46\n",
       "16     programmer    7.0  25.51\n",
       "17        retired   1.48  12.09\n",
       "18       salesman   1.27  11.21\n",
       "19      scientist   3.29  17.83\n",
       "20        student  20.78  40.58\n",
       "21     technician   2.86  16.68\n",
       "22         writer   4.77  21.32"
      ]
     },
     "execution_count": 4,
     "metadata": {},
     "output_type": "execute_result"
    }
   ],
   "source": [
    "variables =  ['Age', 'Sex'] + user_occupation_name.tolist()\n",
    "attributes = np.concatenate((user_age, user_sex * 100, user_occupation.T * 100)).T\n",
    "\n",
    "mean = np.round(np.mean(attributes, axis=0), 2)\n",
    "std = np.round(np.std(attributes, axis=0), 2)\n",
    "\n",
    "df_user = pd.DataFrame(np.concatenate((np.matrix(variables), np.matrix(mean), np.matrix(std)))).T\n",
    "df_user.columns = ['Variable', 'Mean', 'Std']\n",
    "df_user"
   ]
  },
  {
   "cell_type": "markdown",
   "metadata": {},
   "source": [
    "### Importation et reformatage des données associées aux films\n",
    "\n",
    "De la même façon, nous allons traiter et explorer les données associées aux films. Pour chacun des 1 682 films, nous disposons du titre, de la date de sortie en Amérique du Nord, de même que les genres auxquels il est associé."
   ]
  },
  {
   "cell_type": "code",
   "execution_count": 5,
   "metadata": {},
   "outputs": [],
   "source": [
    "movies = pd.read_csv('../data/ml-100k/u.item', sep='|', header=None, engine='python', encoding='latin-1')\n",
    "\n",
    "movie_name = np.array(movies.loc[:, 1])\n",
    "movie_genre = np.matrix(movies.loc[:, 5:])\n",
    "movie_genre_name = np.array(pd.read_csv('../data/ml-100k/u.genre', sep='|', header=None, engine='python', encoding='latin-1').loc[:, 0])"
   ]
  },
  {
   "cell_type": "markdown",
   "metadata": {},
   "source": [
    "Nous remarquerons que la plupart des films proposés sont des drames..."
   ]
  },
  {
   "cell_type": "code",
   "execution_count": 6,
   "metadata": {},
   "outputs": [
    {
     "data": {
      "text/html": [
       "<div>\n",
       "<style scoped>\n",
       "    .dataframe tbody tr th:only-of-type {\n",
       "        vertical-align: middle;\n",
       "    }\n",
       "\n",
       "    .dataframe tbody tr th {\n",
       "        vertical-align: top;\n",
       "    }\n",
       "\n",
       "    .dataframe thead th {\n",
       "        text-align: right;\n",
       "    }\n",
       "</style>\n",
       "<table border=\"1\" class=\"dataframe\">\n",
       "  <thead>\n",
       "    <tr style=\"text-align: right;\">\n",
       "      <th></th>\n",
       "      <th>Genre</th>\n",
       "      <th>Frequency (%)</th>\n",
       "    </tr>\n",
       "  </thead>\n",
       "  <tbody>\n",
       "    <tr>\n",
       "      <th>0</th>\n",
       "      <td>unknown</td>\n",
       "      <td>0.12</td>\n",
       "    </tr>\n",
       "    <tr>\n",
       "      <th>1</th>\n",
       "      <td>Fantasy</td>\n",
       "      <td>1.31</td>\n",
       "    </tr>\n",
       "    <tr>\n",
       "      <th>2</th>\n",
       "      <td>Film-Noir</td>\n",
       "      <td>1.43</td>\n",
       "    </tr>\n",
       "    <tr>\n",
       "      <th>3</th>\n",
       "      <td>Western</td>\n",
       "      <td>1.61</td>\n",
       "    </tr>\n",
       "    <tr>\n",
       "      <th>4</th>\n",
       "      <td>Animation</td>\n",
       "      <td>2.5</td>\n",
       "    </tr>\n",
       "    <tr>\n",
       "      <th>5</th>\n",
       "      <td>Documentary</td>\n",
       "      <td>2.97</td>\n",
       "    </tr>\n",
       "    <tr>\n",
       "      <th>6</th>\n",
       "      <td>Musical</td>\n",
       "      <td>3.33</td>\n",
       "    </tr>\n",
       "    <tr>\n",
       "      <th>7</th>\n",
       "      <td>Mystery</td>\n",
       "      <td>3.63</td>\n",
       "    </tr>\n",
       "    <tr>\n",
       "      <th>8</th>\n",
       "      <td>War</td>\n",
       "      <td>4.22</td>\n",
       "    </tr>\n",
       "    <tr>\n",
       "      <th>9</th>\n",
       "      <td>Horror</td>\n",
       "      <td>5.47</td>\n",
       "    </tr>\n",
       "    <tr>\n",
       "      <th>10</th>\n",
       "      <td>Sci-Fi</td>\n",
       "      <td>6.0</td>\n",
       "    </tr>\n",
       "    <tr>\n",
       "      <th>11</th>\n",
       "      <td>Crime</td>\n",
       "      <td>6.48</td>\n",
       "    </tr>\n",
       "    <tr>\n",
       "      <th>12</th>\n",
       "      <td>Children's</td>\n",
       "      <td>7.25</td>\n",
       "    </tr>\n",
       "    <tr>\n",
       "      <th>13</th>\n",
       "      <td>Adventure</td>\n",
       "      <td>8.03</td>\n",
       "    </tr>\n",
       "    <tr>\n",
       "      <th>14</th>\n",
       "      <td>Romance</td>\n",
       "      <td>14.68</td>\n",
       "    </tr>\n",
       "    <tr>\n",
       "      <th>15</th>\n",
       "      <td>Action</td>\n",
       "      <td>14.92</td>\n",
       "    </tr>\n",
       "    <tr>\n",
       "      <th>16</th>\n",
       "      <td>Thriller</td>\n",
       "      <td>14.92</td>\n",
       "    </tr>\n",
       "    <tr>\n",
       "      <th>17</th>\n",
       "      <td>Comedy</td>\n",
       "      <td>30.02</td>\n",
       "    </tr>\n",
       "    <tr>\n",
       "      <th>18</th>\n",
       "      <td>Drama</td>\n",
       "      <td>43.1</td>\n",
       "    </tr>\n",
       "  </tbody>\n",
       "</table>\n",
       "</div>"
      ],
      "text/plain": [
       "          Genre Frequency (%)\n",
       "0       unknown          0.12\n",
       "1       Fantasy          1.31\n",
       "2     Film-Noir          1.43\n",
       "3       Western          1.61\n",
       "4     Animation           2.5\n",
       "5   Documentary          2.97\n",
       "6       Musical          3.33\n",
       "7       Mystery          3.63\n",
       "8           War          4.22\n",
       "9        Horror          5.47\n",
       "10       Sci-Fi           6.0\n",
       "11        Crime          6.48\n",
       "12   Children's          7.25\n",
       "13    Adventure          8.03\n",
       "14      Romance         14.68\n",
       "15       Action         14.92\n",
       "16     Thriller         14.92\n",
       "17       Comedy         30.02\n",
       "18        Drama          43.1"
      ]
     },
     "execution_count": 6,
     "metadata": {},
     "output_type": "execute_result"
    }
   ],
   "source": [
    "names, scores = rearrange(movie_genre_name, np.array(np.round(np.mean(movie_genre, axis=0) * 100, 2))[0])\n",
    "df_movie = pd.DataFrame(np.concatenate((np.matrix(names), np.matrix(scores)))).T\n",
    "df_movie.columns = ['Genre', 'Frequency (%)']\n",
    "df_movie"
   ]
  },
  {
   "cell_type": "markdown",
   "metadata": {},
   "source": [
    "### Importation et reformatage des données associées aux évaluations"
   ]
  },
  {
   "cell_type": "markdown",
   "metadata": {},
   "source": [
    "À la base, le jeu de données comporte 100 000 lignes (une évaluation par ligne) où sont respectivement recensés le numéro d'identification de l'utilisateur, le numéro d'identification du film, l'évaluation associée et un marqueur de temps auquel le film a été visionné. Les ensembles d'entrainement et de test ont été fournis tel quel et comportent respectivement 80 et 20 milles évaluations.\n",
    "\n",
    "###### REMARQUE : \n",
    "La notion d'ensembles d'entraînement et de test dans le cadre de système de recommendation est quelque peu différente de ce que l'on voit habituellement dans un cas classique de problème supervisé. Si dans le cadre d'un problème supervisé, l'ensemble de test consiste essentiellement en de nouvelles observations (lire lignes) indépendantes des observations préalablement observées dans l'ensemble d'entrainement, le paradigme est sensiblement différent lorsque nous travaillons avec des systèmes de recommendation.\n",
    "\n",
    "Effectivement, et en raison du modèle mathématique sur lequel est basé les systèmes de recommendation, les données appartenant à l'ensemble de test ne sont pas associées à une nouvelle utilisatrice, mais bien à de nouvelles évaluations, ou des évaluations futures. Dès lors, les données associées aux ensembles d'entrainement, de validation et de test ne sont plus indépendantes tel que supposé."
   ]
  },
  {
   "cell_type": "code",
   "execution_count": 7,
   "metadata": {},
   "outputs": [],
   "source": [
    "training_set = pd.read_csv('../data/ml-100k/u1.base', delimiter='\\t')\n",
    "training_set = np.array(training_set, dtype='int')\n",
    "test_set = pd.read_csv('../data/ml-100k/u1.test', delimiter='\\t')\n",
    "test_set = np.array(test_set, dtype='int')\n",
    "\n",
    "nb_users = int(max(max(training_set[:, 0]), max(test_set[:, 0])))\n",
    "nb_items = int(max(max(training_set[:, 1]), max(test_set[:, 1])))\n",
    "\n",
    "train_set = convert(training_set, nb_users, nb_items)\n",
    "test_set = convert(test_set, nb_users, nb_items)"
   ]
  },
  {
   "cell_type": "markdown",
   "metadata": {},
   "source": [
    "Exploration des données et statistiques descriptives"
   ]
  },
  {
   "cell_type": "code",
   "execution_count": 8,
   "metadata": {},
   "outputs": [],
   "source": [
    "train_matrix = np.array(train_set)\n",
    "shape = (len(train_set), len(train_set[0]))\n",
    "train_matrix.reshape(shape)\n",
    "\n",
    "train_matrix_bool = np.where(train_matrix > 0 , 1, 0)\n",
    "\n",
    "movie_frequency = np.mean(train_matrix_bool, axis=0)\n",
    "user_watch = np.sum(train_matrix_bool, axis=1)"
   ]
  },
  {
   "cell_type": "markdown",
   "metadata": {},
   "source": [
    "##### Nombre de films évalués par individu\n",
    "Nous pourrions même en tirer un petit histogramme.\n",
    "\n",
    "##### Questions\n",
    "\n",
    "1. À quelle type de distribution devrions-nous nous attendre?\n",
    "2. Quelles autres types de statistiques pourraient être intéressantes?"
   ]
  },
  {
   "cell_type": "code",
   "execution_count": 9,
   "metadata": {},
   "outputs": [
    {
     "name": "stdout",
     "output_type": "stream",
     "text": [
      "    Mean    Std  Min  1 qrt   Med  3 qrt    Max\n",
      "0  84.83  83.76  4.0   27.0  50.0  115.0  685.0\n"
     ]
    },
    {
     "data": {
      "image/png": "[encoded data removed]",
      "text/plain": [
       "<Figure size 432x288 with 1 Axes>"
      ]
     },
     "metadata": {
      "needs_background": "light"
     },
     "output_type": "display_data"
    }
   ],
   "source": [
    "var = np.matrix(['Mean', 'Std', 'Min', '1 qrt', 'Med', '3 qrt', 'Max'])\n",
    "stats = np.matrix([np.round(np.mean(user_watch), 2), np.round(np.std(user_watch), 2), \n",
    "                   np.min(user_watch), np.percentile(user_watch, 25),\n",
    "           np.median(user_watch),np.percentile(user_watch, 75), np.max(user_watch)])\n",
    "\n",
    "df = pd.DataFrame(stats)\n",
    "df.columns = ['Mean', 'Std', 'Min', '1 qrt', 'Med', '3 qrt', 'Max']\n",
    "print(df)\n",
    "\n",
    "import matplotlib.mlab as mlab\n",
    "import matplotlib.patches as mpatches\n",
    "\n",
    "plt.hist(user_watch.T , 100)\n",
    "plt.xlabel('Movies watched')\n",
    "plt.ylabel('User')\n",
    "plt.show()"
   ]
  },
  {
   "cell_type": "markdown",
   "metadata": {},
   "source": [
    "###### Nombre d'évaluations par films"
   ]
  },
  {
   "cell_type": "code",
   "execution_count": 10,
   "metadata": {},
   "outputs": [
    {
     "name": "stdout",
     "output_type": "stream",
     "text": [
      "   Mean   Std  Min     1 qrt       Med     3 qrt       Max\n",
      "0  0.05  0.07  0.0  0.005302  0.022269  0.066808  0.513256\n"
     ]
    },
    {
     "data": {
      "image/png": "[encoded data removed]",
      "text/plain": [
       "<Figure size 432x288 with 1 Axes>"
      ]
     },
     "metadata": {
      "needs_background": "light"
     },
     "output_type": "display_data"
    }
   ],
   "source": [
    "var = np.matrix(['Mean', 'Std', 'Min', '1 qrt', 'Med', '3 qrt', 'Max'])\n",
    "stats = np.matrix([np.round(np.mean(movie_frequency), 2), np.round(np.std(movie_frequency), 2), \n",
    "                   np.min(movie_frequency), np.percentile(movie_frequency, 25),\n",
    "           np.median(movie_frequency),np.percentile(movie_frequency, 75), np.max(movie_frequency)])\n",
    "\n",
    "df = pd.DataFrame(stats)\n",
    "df.columns = ['Mean', 'Std', 'Min', '1 qrt', 'Med', '3 qrt', 'Max']\n",
    "print(df)\n",
    "\n",
    "plt.hist(movie_frequency , 100)\n",
    "plt.xlabel('Movies watched')\n",
    "plt.ylabel('User')\n",
    "plt.show()"
   ]
  },
  {
   "cell_type": "markdown",
   "metadata": {},
   "source": [
    "##### Créations des sous-ensembles d'entrainement et de validation\n",
    "\n",
    "Enfin, pour obtenir le meilleur modèle, et fixer l'ensemble des paramètres et hyperparamètres optimaux, nous devons construire des sous-ensembles d'entrainement et de validation. Puisque le but de l'atelier n'est pas d'étudier la notion de biais systèmatique associée à la présence de données manquantes dans les systèmes de recommendation, nous allons naïvement supposer que chacune des évaluations sont indépendantes les unes des autres. "
   ]
  },
  {
   "cell_type": "code",
   "execution_count": 11,
   "metadata": {},
   "outputs": [],
   "source": [
    "def split(data, ratio, tensor=False):\n",
    "\n",
    "    train, valid = np.zeros((len(data), len(data[0]))).tolist(), np.zeros((len(data), len(data[0]))).tolist()\n",
    "\n",
    "    for i in range(len(data)):\n",
    "        for j in range(len(data[i])):\n",
    "            if data[i][j] > 0:\n",
    "                if np.random.binomial(1, ratio, 1):\n",
    "                    train[i][j] = data[i][j]\n",
    "                else:\n",
    "                    valid[i][j] = data[i][j]\n",
    "\n",
    "    return [train, valid]\n",
    "\n",
    "train = split(train_set, 0.8)\n",
    "\n",
    "train, valid = torch.FloatTensor(train)\n",
    "test = torch.FloatTensor(test_set)"
   ]
  },
  {
   "cell_type": "markdown",
   "metadata": {},
   "source": [
    "## Système de recommendation basé sur des architectures d'apprentissage profond\n",
    "\n",
    "Mettre commentaires"
   ]
  },
  {
   "cell_type": "code",
   "execution_count": 34,
   "metadata": {},
   "outputs": [],
   "source": [
    "class RSAE(nn.Module):\n",
    "\n",
    "    def __init__(self, ratings, user_attributes, movie_name, movie_genre, movie_genre_name, criterion, attributes=False):\n",
    "        \n",
    "        super(RSAE, self).__init__()\n",
    "        \n",
    "        self.attributes = attributes\n",
    "        \n",
    "        self.fc1 = nn.Linear(len(movie_name)+ attributes * len(user_attributes[0]), 100)\n",
    "        self.fc2 = nn.Linear(100, len(movie_name))\n",
    "        \n",
    "        self.ratings = ratings\n",
    "        self.user_attributes = user_attributes\n",
    "        \n",
    "        self.movie_name = movie_name\n",
    "        self.movie_genre = movie_genre\n",
    "        self.movie_genre_name = movie_genre_name\n",
    "        \n",
    "        self.criterion = criterion\n",
    "        \n",
    "    def recommendations(self, user_id, top_what=5, genre=None):\n",
    "        \n",
    "        if not self.attributes:\n",
    "            user_ratings = torch.FloatTensor(self.ratings[user_id])\n",
    "        else:\n",
    "            user_ratings = torch.FloatTensor(self.ratings[user_id] + self.user_attributes[user_id])\n",
    "            \n",
    "        predictions = self(user_ratings).detach().numpy()\n",
    "        predictions[torch.FloatTensor(self.ratings[user_id]) != 0] = 0\n",
    "\n",
    "        if genre != None:\n",
    "            place = self.movie_genre_name.tolist().index(genre)    \n",
    "            genre = self.movie_genre[:, place]\n",
    "            predictions = predictions * np.array(genre.T)[0]\n",
    "\n",
    "        return rearrange(self.movie_name, predictions)[0][-top_what:]\n",
    "    \n",
    "    def recommendation_stats(self, predictions):\n",
    "        \n",
    "        names = self.movie_name.tolist()    \n",
    "        \n",
    "        for k in np.arange(len(predictions)):\n",
    "            if not k:\n",
    "                stats = movie_genre[names.index(predictions[k]), :]\n",
    "            else:\n",
    "                stats += movie_genre[names.index(predictions[k]), :]\n",
    "        \n",
    "        return stats\n",
    "\n",
    "    def fit(self, ratings, user_attributes=False, valid=False):\n",
    "         \n",
    "        nb_users, nb_movies = len(ratings), len(ratings[0])\n",
    "        average_loss, s = 0, 0.\n",
    "        \n",
    "        for id_user in range(nb_users):\n",
    "            \n",
    "            if not user_attributes:\n",
    "                input = Variable(ratings[id_user]).unsqueeze(0)\n",
    "                target = input.clone()\n",
    "            else: \n",
    "                input = Variable(torch.cat((ratings[id_user], torch.FloatTensor(self.user_attributes[id_user])))).unsqueeze(0)\n",
    "                target = Variable(ratings[id_user]).unsqueeze(0)\n",
    "\n",
    "            if torch.sum(target > 0) > 0:\n",
    "                \n",
    "                output = self(input)\n",
    "                target.require_grad = False\n",
    "                output[target == 0] = 0\n",
    "                loss = self.criterion(output, target)\n",
    "\n",
    "                if not valid:\n",
    "                    loss.backward()\n",
    "                    optimizer.step()\n",
    "\n",
    "                average_loss += np.sqrt(loss.data / float(torch.sum(target.data > 0)))\n",
    "                s += 1.\n",
    "        \n",
    "        return average_loss / s\n",
    "    \n",
    "    def forward(self, x):\n",
    "        h1 = torch.sigmoid(self.fc1(x))\n",
    "        return self.fc2(h1)"
   ]
  },
  {
   "cell_type": "markdown",
   "metadata": {},
   "source": [
    "### Auto-encodeurs (AE)"
   ]
  },
  {
   "cell_type": "markdown",
   "metadata": {},
   "source": [
    "#### Paramètres considérés\n",
    "\n",
    "Dans le cas d'un auto-encodeur (AE), plusieurs paramètres pourront considérés. Parmis les plus évidents, mentionnons simplement le nombre de couches cachées et le nombre de neuronnes sur chacune d'elles. Nous pourrons également considérer les différentes fonctions d'activation, ici limité à une seule et consistant à une fonction sigmoïde. \n",
    "\n",
    "Même si typiquement les couches d'entrée et de sortie d'un auto-encodeur sont identiques, nous pouvons utiliser les données sur les utilisateurs afin de prédire avec plus de précision (biais) et d'exactitude (variance). Nous explorerons cet aspect par la suite.\n",
    "\n",
    "D'une grande importance également est le type de la fonction de perte. Si l'erreur quadratique moyenne est majoritairement utilisée, plusieurs autres options existent et la littérature récente semble délaisser l'usage de la MSE et suggérant plutôt d'autres alternatives plus à propos. Plus technique, nous pourrons également considérer comme un paramètre le type d'optimiseur pour effectuer l'estimation des paramètres associés à l'auto-encodeur."
   ]
  },
  {
   "cell_type": "code",
   "execution_count": null,
   "metadata": {},
   "outputs": [],
   "source": []
  },
  {
   "cell_type": "markdown",
   "metadata": {},
   "source": [
    "#### Hyperparamètres considérés\n",
    "\n",
    "Les hyperparamètres considérés sont semblables à ceux utilisés dans les autres architectures en apprentissage profond. À savoir: le pas d'apprentissage (learning rate), le nombre d'époques ou d'itérations, la régularisation (weight decay) imposée sur les paramètres du modèle de même que le critère d'arrêt.\n",
    "\n",
    "En temps normal, la meilleure combinaison des (hyper) paramètres se fera en étudiant leur performance sur l'ensemble de validation.  \n",
    "\n",
    "Une fois l'ensemble des paramètres et hyperparamètres définis, nous pouvons initialiser le modèle."
   ]
  },
  {
   "cell_type": "code",
   "execution_count": 35,
   "metadata": {},
   "outputs": [],
   "source": [
    "learning_rate = 0.02\n",
    "nb_epoch = 20\n",
    "weight_decay = 0.02\n",
    "stop_crit = 0.002\n",
    "attributes =  True\n",
    "\n",
    "criterion = nn.MSELoss()\n",
    "ae = RSAE(train_set, user_attributes, movie_name, movie_genre, movie_genre_name, criterion, attributes)\n",
    "optimizer = optim.RMSprop(ae.parameters(), lr=learning_rate, weight_decay=weight_decay)"
   ]
  },
  {
   "cell_type": "markdown",
   "metadata": {},
   "source": [
    "### Entrainement du modèle\n",
    "\n",
    "L'entraînement du modèle se fait pratiquement directement via la classe associée au modèle.\n",
    "\n",
    "\n",
    "###### Questions\n",
    "1. Qu'est-ce qu'il manque dans la cellule ci-dessous afin de déterminer l'ensemble des meilleurs paramètres et hyperparamètres?\n",
    "2. Implémenter brièvement.\n",
    "3. Une fois la sélection de modèle effectuée, comment définir et entrainer la structure de l'AE désiré?\n"
   ]
  },
  {
   "cell_type": "code",
   "execution_count": 18,
   "metadata": {},
   "outputs": [
    {
     "name": "stdout",
     "output_type": "stream",
     "text": [
      "epoch:  1    |   train:  0.0497    |   valid:  0.0381\n",
      "epoch:  2    |   train:  0.0415    |   valid:  0.038\n",
      "epoch:  3    |   train:  0.0409    |   valid:  0.0408\n",
      "epoch:  4    |   train:  0.0433    |   valid:  0.041\n",
      "epoch:  5    |   train:  0.0428    |   valid:  0.0394\n",
      "epoch:  6    |   train:  0.0397    |   valid:  0.0368\n",
      "epoch:  7    |   train:  0.038    |   valid:  0.0356\n",
      "epoch:  8    |   train:  0.0374    |   valid:  0.0356\n",
      "epoch:  9    |   train:  0.0379    |   valid:  0.0368\n",
      "epoch:  10    |   train:  0.0386    |   valid:  0.0368\n",
      "epoch:  11    |   train:  0.0386    |   valid:  0.0367\n",
      "epoch:  12    |   train:  0.0386    |   valid:  0.0367\n",
      "epoch:  13    |   train:  0.0385    |   valid:  0.0356\n",
      "epoch:  14    |   train:  0.0374    |   valid:  0.0365\n",
      "epoch:  15    |   train:  0.0385    |   valid:  0.0367\n",
      "epoch:  16    |   train:  0.0391    |   valid:  0.0393\n",
      "epoch:  17    |   train:  0.0406    |   valid:  0.038\n",
      "epoch:  18    |   train:  0.0395    |   valid:  0.0368\n",
      "epoch:  19    |   train:  0.0385    |   valid:  0.0367\n",
      "epoch:  20    |   train:  0.0373    |   valid:  0.0356\n"
     ]
    }
   ],
   "source": [
    "for epoch in np.arange(nb_epoch):\n",
    "    train_loss = ae.fit(ratings=train, user_attributes=attributes).numpy()\n",
    "    valid_loss = ae.fit(ratings=valid, valid=True, user_attributes=attributes).numpy()\n",
    "\n",
    "    print('epoch: ', epoch + 1, '   |   train: ', np.around(train_loss, 4), \\\n",
    "     '   |   valid: ', np.around(valid_loss, 4))"
   ]
  },
  {
   "cell_type": "markdown",
   "metadata": {},
   "source": [
    "##### Questions \n",
    "\n",
    "1. Évaluer les performance sur l'ensemble de test."
   ]
  },
  {
   "cell_type": "code",
   "execution_count": 19,
   "metadata": {},
   "outputs": [
    {
     "name": "stdout",
     "output_type": "stream",
     "text": [
      "Loss test:  0.037715845\n"
     ]
    }
   ],
   "source": [
    "print('Loss test: ', ae.fit(ratings=test, user_attributes=attributes).numpy())"
   ]
  },
  {
   "cell_type": "markdown",
   "metadata": {},
   "source": [
    "### Entrainement du modèle - Implicite\n",
    "\n",
    "Le modèle construit ne prenait en considération seulemement que les évaluations fournies par les utilisateurs. Il pourrait être intéressant de considérer d'autres types de données (les variables sociodémographiques associées aux usagers par exemple) pour améliorer les qualités prédictives du modèle.\n",
    "\n",
    "###### Questions\n",
    "1. Quel autre avantage y a-t-il à considérer ce genre d'informations pour entrainer le modèle?\n",
    "2. Implémenter."
   ]
  },
  {
   "cell_type": "code",
   "execution_count": null,
   "metadata": {},
   "outputs": [],
   "source": []
  },
  {
   "cell_type": "markdown",
   "metadata": {},
   "source": [
    "### Analyse des performances générales et visualisation des résultats\n",
    "\n",
    "L'analyse des résultats ne se résume pas simplement à une statistique (une fonction de perte, un pourcentage) sur l'ensemble test. Effectivement, il est judicieux de s'attarder davantage aux performances du modèle choisi sur l'ensemble test. Ici, nous suggérons simplement d'étudier les performances en fonction:\n",
    "1. De l'utilisateur,\n",
    "2. Des attributs de l'utilisateur (sexe, age occupation),\n",
    "3. Des films,\n",
    "4. Du genre des films."
   ]
  },
  {
   "cell_type": "code",
   "execution_count": null,
   "metadata": {},
   "outputs": [],
   "source": []
  },
  {
   "cell_type": "markdown",
   "metadata": {},
   "source": [
    "### En pratique - Recommendations pour un individu choisi\n",
    "\n",
    "Tel que vue précédememnt avec l'algorithme associé à la factorisation matricielle, nous pouvons définir une fonction de classe afin d'effectuer les meilleures recommendations. Dans un premier temps, nous pouvons suggérer les 'k' meilleures recommendations pour un usager en particulier. Naturellement, les recommendations faites ne suggèrent que des films non visionnés par l'usager.\n",
    "\n",
    "###### Question: \n",
    "1. Implémenter une fonction de classe pour définir les 'k' meilleures recommendations à un individu choisi."
   ]
  },
  {
   "cell_type": "code",
   "execution_count": 20,
   "metadata": {},
   "outputs": [
    {
     "data": {
      "text/plain": [
       "[\"Cats Don't Dance (1997)\",\n",
       " 'Three Caballeros, The (1945)',\n",
       " 'Dumbo (1941)',\n",
       " 'Faust (1994)',\n",
       " 'Heidi Fleiss: Hollywood Madam (1995) ']"
      ]
     },
     "execution_count": 20,
     "metadata": {},
     "output_type": "execute_result"
    }
   ],
   "source": [
    "ae.recommendations(user_id = 1, top_what = 5, genre=\"Animation\")"
   ]
  },
  {
   "cell_type": "markdown",
   "metadata": {},
   "source": [
    "En s'attardant un peu aux nouvelles recommendations faites, on peut identifier le comportement de l'usager et ses préférences en terme de genre.\n",
    "\n",
    "###### Question: \n",
    "2. Pour un individu choisi, présenter les statistiques descriptives associées aux recommendations faites."
   ]
  },
  {
   "cell_type": "code",
   "execution_count": 21,
   "metadata": {},
   "outputs": [],
   "source": [
    "def barplot(attribute, scores):\n",
    "\n",
    "    label = np.array(attribute)[np.array(scores) != 0]\n",
    "    scores = np.array(scores)[np.array(scores) != 0]\n",
    "    plt.bar(label, scores)\n",
    "    plt.xlabel('Genre', fontsize=10)\n",
    "    plt.ylabel('Number of Movies', fontsize=10)\n",
    "    plt.xticks(label, label, fontsize=10, rotation=45)\n",
    "    plt.title('User preference : Genre')\n",
    "    plt.show()"
   ]
  },
  {
   "cell_type": "code",
   "execution_count": 22,
   "metadata": {},
   "outputs": [
    {
     "data": {
      "image/png": "[encoded data removed]",
      "text/plain": [
       "<Figure size 432x288 with 1 Axes>"
      ]
     },
     "metadata": {
      "needs_background": "light"
     },
     "output_type": "display_data"
    }
   ],
   "source": [
    "user_id = 13\n",
    "top_what = 20\n",
    "\n",
    "recommendations = ae.recommendations(user_id, top_what)\n",
    "scores = np.array(ae.recommendation_stats(recommendations)[0, :])[0]\n",
    "attribute, scores = rearrange(movie_genre_name, scores)\n",
    "\n",
    "barplot(attribute, scores)"
   ]
  },
  {
   "cell_type": "markdown",
   "metadata": {},
   "source": [
    "En fait, ça pourrait être intéressant de proposer à l'usager des films en fonction de ces préférences du moment en fonction du genre.\n",
    "\n",
    "###### Question\n",
    "\n",
    "3. Modifier la fonction de classe 'recommendations' afin d'effectuer des recommendations en fonction d'un genre ou d'un ensemble de genre précis."
   ]
  },
  {
   "cell_type": "code",
   "execution_count": 23,
   "metadata": {},
   "outputs": [
    {
     "data": {
      "text/plain": [
       "['Amazing Panda Adventure, The (1995)',\n",
       " 'Mary Poppins (1964)',\n",
       " 'Little Princess, The (1939)',\n",
       " 'Heidi Fleiss: Hollywood Madam (1995) ',\n",
       " 'Unbearable Lightness of Being, The (1988)']"
      ]
     },
     "execution_count": 23,
     "metadata": {},
     "output_type": "execute_result"
    }
   ],
   "source": [
    "ae.recommendations(user_id = 1, top_what = 5, genre=\"Children's\")"
   ]
  },
  {
   "cell_type": "markdown",
   "metadata": {},
   "source": [
    "##### Question\n",
    "\n",
    "4. Enfin, mettez à profit le modèle entrainé pour obtenir les cinq meilleures recommendations pour vous."
   ]
  },
  {
   "cell_type": "code",
   "execution_count": 30,
   "metadata": {},
   "outputs": [
    {
     "data": {
      "text/plain": [
       "['Aiqing wansui (1994)',\n",
       " 'For the Moment (1994)',\n",
       " 'Contact (1997)',\n",
       " 'The Deadly Cure (1996)',\n",
       " 'Great Day in Harlem, A (1994)',\n",
       " 'Jude (1996)',\n",
       " 'Little City (1998)',\n",
       " 'Monty Python and the Holy Grail (1974)',\n",
       " 'Heidi Fleiss: Hollywood Madam (1995) ',\n",
       " 'From Dusk Till Dawn (1996)']"
      ]
     },
     "execution_count": 30,
     "metadata": {},
     "output_type": "execute_result"
    }
   ],
   "source": [
    "david_age = 1000000\n",
    "david_sex = 'Female'\n",
    "david_occupation = 'scientist'\n",
    "\n",
    "david_attributes = transform(david_sex, david_age, david_occupation)\n",
    "david_ratings = np.zeros(len(test[0])).tolist()\n",
    "\n",
    "david_data = torch.FloatTensor(david_ratings + david_attributes)\n",
    "predictions = ae(david_data).detach().numpy()\n",
    "rearrange(ae.movie_name, predictions)[0][-10:]"
   ]
  },
  {
   "cell_type": "markdown",
   "metadata": {},
   "source": [
    "## Comparaison des différentes techniques : MF vs AE\n",
    "\n",
    "Présenter discussion"
   ]
  },
  {
   "cell_type": "code",
   "execution_count": null,
   "metadata": {},
   "outputs": [],
   "source": []
  }
 ],
 "metadata": {
  "kernelspec": {
   "display_name": "Python 3",
   "language": "python",
   "name": "python3"
  },
  "language_info": {
   "codemirror_mode": {
    "name": "ipython",
    "version": 3
   },
   "file_extension": ".py",
   "mimetype": "text/x-python",
   "name": "python",
   "nbconvert_exporter": "python",
   "pygments_lexer": "ipython3",
   "version": "3.7.3"
  }
 },
 "nbformat": 4,
 "nbformat_minor": 2
}
